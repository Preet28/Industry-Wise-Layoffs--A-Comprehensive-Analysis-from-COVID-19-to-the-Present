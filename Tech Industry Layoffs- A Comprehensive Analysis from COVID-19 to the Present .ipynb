{
 "cells": [
  {
   "cell_type": "markdown",
   "metadata": {},
   "source": [
    "### importing necessary libraries"
   ]
  },
  {
   "cell_type": "code",
   "execution_count": 137,
   "metadata": {},
   "outputs": [],
   "source": [
    "import pandas as pd\n",
    "import numpy as np\n",
    "import matplotlib.pyplot as plt\n",
    "import seaborn as sns\n",
    "%matplotlib inline"
   ]
  },
  {
   "cell_type": "markdown",
   "metadata": {},
   "source": [
    "### data preparation"
   ]
  },
  {
   "cell_type": "code",
   "execution_count": 138,
   "metadata": {},
   "outputs": [],
   "source": [
    "df = pd.read_csv(r\"C:\\Users\\preet\\testing\\Projects_to_upload_on_Github\\Tech Industry Layoffs- A Comprehensive Analysis from COVID-19 to the Present\\layoffs.csv\")"
   ]
  },
  {
   "cell_type": "code",
   "execution_count": 139,
   "metadata": {},
   "outputs": [
    {
     "data": {
      "text/html": [
       "<div>\n",
       "<style scoped>\n",
       "    .dataframe tbody tr th:only-of-type {\n",
       "        vertical-align: middle;\n",
       "    }\n",
       "\n",
       "    .dataframe tbody tr th {\n",
       "        vertical-align: top;\n",
       "    }\n",
       "\n",
       "    .dataframe thead th {\n",
       "        text-align: right;\n",
       "    }\n",
       "</style>\n",
       "<table border=\"1\" class=\"dataframe\">\n",
       "  <thead>\n",
       "    <tr style=\"text-align: right;\">\n",
       "      <th></th>\n",
       "      <th>company</th>\n",
       "      <th>location</th>\n",
       "      <th>industry</th>\n",
       "      <th>total_laid_off</th>\n",
       "      <th>percentage_laid_off</th>\n",
       "      <th>date</th>\n",
       "      <th>stage</th>\n",
       "      <th>country</th>\n",
       "      <th>funds_raised</th>\n",
       "    </tr>\n",
       "  </thead>\n",
       "  <tbody>\n",
       "    <tr>\n",
       "      <th>0</th>\n",
       "      <td>Just Eat</td>\n",
       "      <td>London</td>\n",
       "      <td>Food</td>\n",
       "      <td>1700.0</td>\n",
       "      <td>NaN</td>\n",
       "      <td>2023-03-21</td>\n",
       "      <td>Acquired</td>\n",
       "      <td>United Kingdom</td>\n",
       "      <td>NaN</td>\n",
       "    </tr>\n",
       "    <tr>\n",
       "      <th>1</th>\n",
       "      <td>Marvell</td>\n",
       "      <td>SF Bay Area</td>\n",
       "      <td>Hardware</td>\n",
       "      <td>320.0</td>\n",
       "      <td>0.04</td>\n",
       "      <td>2023-03-21</td>\n",
       "      <td>Post-IPO</td>\n",
       "      <td>United States</td>\n",
       "      <td>NaN</td>\n",
       "    </tr>\n",
       "    <tr>\n",
       "      <th>2</th>\n",
       "      <td>Workhuman</td>\n",
       "      <td>Dublin</td>\n",
       "      <td>HR</td>\n",
       "      <td>130.0</td>\n",
       "      <td>0.10</td>\n",
       "      <td>2023-03-21</td>\n",
       "      <td>Unknown</td>\n",
       "      <td>Ireland</td>\n",
       "      <td>131.0</td>\n",
       "    </tr>\n",
       "    <tr>\n",
       "      <th>3</th>\n",
       "      <td>FreshBooks</td>\n",
       "      <td>Toronto</td>\n",
       "      <td>Finance</td>\n",
       "      <td>80.0</td>\n",
       "      <td>0.10</td>\n",
       "      <td>2023-03-21</td>\n",
       "      <td>Unknown</td>\n",
       "      <td>Canada</td>\n",
       "      <td>331.0</td>\n",
       "    </tr>\n",
       "    <tr>\n",
       "      <th>4</th>\n",
       "      <td>Xing</td>\n",
       "      <td>Hamburg</td>\n",
       "      <td>HR</td>\n",
       "      <td>68.0</td>\n",
       "      <td>NaN</td>\n",
       "      <td>2023-03-21</td>\n",
       "      <td>Series A</td>\n",
       "      <td>Germany</td>\n",
       "      <td>NaN</td>\n",
       "    </tr>\n",
       "    <tr>\n",
       "      <th>5</th>\n",
       "      <td>Mr Yum</td>\n",
       "      <td>Melbourne</td>\n",
       "      <td>Food</td>\n",
       "      <td>40.0</td>\n",
       "      <td>NaN</td>\n",
       "      <td>2023-03-21</td>\n",
       "      <td>Series A</td>\n",
       "      <td>Australia</td>\n",
       "      <td>101.0</td>\n",
       "    </tr>\n",
       "    <tr>\n",
       "      <th>6</th>\n",
       "      <td>Smallcase</td>\n",
       "      <td>Bengaluru</td>\n",
       "      <td>Finance</td>\n",
       "      <td>15.0</td>\n",
       "      <td>0.04</td>\n",
       "      <td>2023-03-21</td>\n",
       "      <td>Series C</td>\n",
       "      <td>India</td>\n",
       "      <td>62.0</td>\n",
       "    </tr>\n",
       "    <tr>\n",
       "      <th>7</th>\n",
       "      <td>Laybuy</td>\n",
       "      <td>Auckland</td>\n",
       "      <td>Finance</td>\n",
       "      <td>NaN</td>\n",
       "      <td>0.10</td>\n",
       "      <td>2023-03-21</td>\n",
       "      <td>Post-IPO</td>\n",
       "      <td>New Zealand</td>\n",
       "      <td>130.0</td>\n",
       "    </tr>\n",
       "    <tr>\n",
       "      <th>8</th>\n",
       "      <td>Amazon</td>\n",
       "      <td>Seattle</td>\n",
       "      <td>Retail</td>\n",
       "      <td>9000.0</td>\n",
       "      <td>NaN</td>\n",
       "      <td>2023-03-20</td>\n",
       "      <td>Post-IPO</td>\n",
       "      <td>United States</td>\n",
       "      <td>108.0</td>\n",
       "    </tr>\n",
       "    <tr>\n",
       "      <th>9</th>\n",
       "      <td>Huuuge Games</td>\n",
       "      <td>Warsaw</td>\n",
       "      <td>Consumer</td>\n",
       "      <td>NaN</td>\n",
       "      <td>0.10</td>\n",
       "      <td>2023-03-20</td>\n",
       "      <td>Series C</td>\n",
       "      <td>Poland</td>\n",
       "      <td>57.0</td>\n",
       "    </tr>\n",
       "  </tbody>\n",
       "</table>\n",
       "</div>"
      ],
      "text/plain": [
       "        company     location  industry  total_laid_off  percentage_laid_off  \\\n",
       "0      Just Eat       London      Food          1700.0                  NaN   \n",
       "1       Marvell  SF Bay Area  Hardware           320.0                 0.04   \n",
       "2     Workhuman       Dublin        HR           130.0                 0.10   \n",
       "3    FreshBooks      Toronto   Finance            80.0                 0.10   \n",
       "4          Xing      Hamburg        HR            68.0                  NaN   \n",
       "5        Mr Yum    Melbourne      Food            40.0                  NaN   \n",
       "6     Smallcase    Bengaluru   Finance            15.0                 0.04   \n",
       "7        Laybuy     Auckland   Finance             NaN                 0.10   \n",
       "8        Amazon      Seattle    Retail          9000.0                  NaN   \n",
       "9  Huuuge Games       Warsaw  Consumer             NaN                 0.10   \n",
       "\n",
       "         date     stage         country  funds_raised  \n",
       "0  2023-03-21  Acquired  United Kingdom           NaN  \n",
       "1  2023-03-21  Post-IPO   United States           NaN  \n",
       "2  2023-03-21   Unknown         Ireland         131.0  \n",
       "3  2023-03-21   Unknown          Canada         331.0  \n",
       "4  2023-03-21  Series A         Germany           NaN  \n",
       "5  2023-03-21  Series A       Australia         101.0  \n",
       "6  2023-03-21  Series C           India          62.0  \n",
       "7  2023-03-21  Post-IPO     New Zealand         130.0  \n",
       "8  2023-03-20  Post-IPO   United States         108.0  \n",
       "9  2023-03-20  Series C          Poland          57.0  "
      ]
     },
     "execution_count": 139,
     "metadata": {},
     "output_type": "execute_result"
    }
   ],
   "source": [
    "df.head(10)"
   ]
  },
  {
   "cell_type": "code",
   "execution_count": 140,
   "metadata": {},
   "outputs": [
    {
     "data": {
      "text/html": [
       "<div>\n",
       "<style scoped>\n",
       "    .dataframe tbody tr th:only-of-type {\n",
       "        vertical-align: middle;\n",
       "    }\n",
       "\n",
       "    .dataframe tbody tr th {\n",
       "        vertical-align: top;\n",
       "    }\n",
       "\n",
       "    .dataframe thead th {\n",
       "        text-align: right;\n",
       "    }\n",
       "</style>\n",
       "<table border=\"1\" class=\"dataframe\">\n",
       "  <thead>\n",
       "    <tr style=\"text-align: right;\">\n",
       "      <th></th>\n",
       "      <th>company</th>\n",
       "      <th>location</th>\n",
       "      <th>industry</th>\n",
       "      <th>total_laid_off</th>\n",
       "      <th>percentage_laid_off</th>\n",
       "      <th>date</th>\n",
       "      <th>stage</th>\n",
       "      <th>country</th>\n",
       "      <th>funds_raised</th>\n",
       "    </tr>\n",
       "  </thead>\n",
       "  <tbody>\n",
       "    <tr>\n",
       "      <th>2404</th>\n",
       "      <td>Tuft &amp; Needle</td>\n",
       "      <td>Phoenix</td>\n",
       "      <td>Retail</td>\n",
       "      <td>NaN</td>\n",
       "      <td>NaN</td>\n",
       "      <td>2020-03-19</td>\n",
       "      <td>Acquired</td>\n",
       "      <td>United States</td>\n",
       "      <td>0.0</td>\n",
       "    </tr>\n",
       "    <tr>\n",
       "      <th>2405</th>\n",
       "      <td>Flytedesk</td>\n",
       "      <td>Boulder</td>\n",
       "      <td>Marketing</td>\n",
       "      <td>4.0</td>\n",
       "      <td>0.20</td>\n",
       "      <td>2020-03-18</td>\n",
       "      <td>Seed</td>\n",
       "      <td>United States</td>\n",
       "      <td>4.0</td>\n",
       "    </tr>\n",
       "    <tr>\n",
       "      <th>2406</th>\n",
       "      <td>Inspirato</td>\n",
       "      <td>Denver</td>\n",
       "      <td>Travel</td>\n",
       "      <td>130.0</td>\n",
       "      <td>0.22</td>\n",
       "      <td>2020-03-16</td>\n",
       "      <td>Series C</td>\n",
       "      <td>United States</td>\n",
       "      <td>79.0</td>\n",
       "    </tr>\n",
       "    <tr>\n",
       "      <th>2407</th>\n",
       "      <td>Help.com</td>\n",
       "      <td>Austin</td>\n",
       "      <td>Support</td>\n",
       "      <td>16.0</td>\n",
       "      <td>1.00</td>\n",
       "      <td>2020-03-16</td>\n",
       "      <td>Seed</td>\n",
       "      <td>United States</td>\n",
       "      <td>6.0</td>\n",
       "    </tr>\n",
       "    <tr>\n",
       "      <th>2408</th>\n",
       "      <td>Service</td>\n",
       "      <td>Los Angeles</td>\n",
       "      <td>Travel</td>\n",
       "      <td>NaN</td>\n",
       "      <td>1.00</td>\n",
       "      <td>2020-03-16</td>\n",
       "      <td>Seed</td>\n",
       "      <td>United States</td>\n",
       "      <td>5.1</td>\n",
       "    </tr>\n",
       "    <tr>\n",
       "      <th>2409</th>\n",
       "      <td>HopSkipDrive</td>\n",
       "      <td>Los Angeles</td>\n",
       "      <td>Transportation</td>\n",
       "      <td>8.0</td>\n",
       "      <td>0.10</td>\n",
       "      <td>2020-03-13</td>\n",
       "      <td>Unknown</td>\n",
       "      <td>United States</td>\n",
       "      <td>45.0</td>\n",
       "    </tr>\n",
       "    <tr>\n",
       "      <th>2410</th>\n",
       "      <td>Panda Squad</td>\n",
       "      <td>SF Bay Area</td>\n",
       "      <td>Consumer</td>\n",
       "      <td>6.0</td>\n",
       "      <td>0.75</td>\n",
       "      <td>2020-03-13</td>\n",
       "      <td>Seed</td>\n",
       "      <td>United States</td>\n",
       "      <td>1.0</td>\n",
       "    </tr>\n",
       "    <tr>\n",
       "      <th>2411</th>\n",
       "      <td>Tamara Mellon</td>\n",
       "      <td>Los Angeles</td>\n",
       "      <td>Retail</td>\n",
       "      <td>20.0</td>\n",
       "      <td>0.40</td>\n",
       "      <td>2020-03-12</td>\n",
       "      <td>Series C</td>\n",
       "      <td>United States</td>\n",
       "      <td>90.0</td>\n",
       "    </tr>\n",
       "    <tr>\n",
       "      <th>2412</th>\n",
       "      <td>EasyPost</td>\n",
       "      <td>Salt Lake City</td>\n",
       "      <td>Logistics</td>\n",
       "      <td>75.0</td>\n",
       "      <td>NaN</td>\n",
       "      <td>2020-03-11</td>\n",
       "      <td>Series A</td>\n",
       "      <td>United States</td>\n",
       "      <td>12.0</td>\n",
       "    </tr>\n",
       "    <tr>\n",
       "      <th>2413</th>\n",
       "      <td>Blackbaud</td>\n",
       "      <td>Charleston</td>\n",
       "      <td>Other</td>\n",
       "      <td>500.0</td>\n",
       "      <td>0.14</td>\n",
       "      <td>NaN</td>\n",
       "      <td>Post-IPO</td>\n",
       "      <td>United States</td>\n",
       "      <td>NaN</td>\n",
       "    </tr>\n",
       "  </tbody>\n",
       "</table>\n",
       "</div>"
      ],
      "text/plain": [
       "            company        location        industry  total_laid_off  \\\n",
       "2404  Tuft & Needle         Phoenix          Retail             NaN   \n",
       "2405      Flytedesk         Boulder       Marketing             4.0   \n",
       "2406      Inspirato          Denver          Travel           130.0   \n",
       "2407       Help.com          Austin         Support            16.0   \n",
       "2408        Service     Los Angeles          Travel             NaN   \n",
       "2409   HopSkipDrive     Los Angeles  Transportation             8.0   \n",
       "2410    Panda Squad     SF Bay Area        Consumer             6.0   \n",
       "2411  Tamara Mellon     Los Angeles          Retail            20.0   \n",
       "2412       EasyPost  Salt Lake City       Logistics            75.0   \n",
       "2413      Blackbaud      Charleston           Other           500.0   \n",
       "\n",
       "      percentage_laid_off        date     stage        country  funds_raised  \n",
       "2404                  NaN  2020-03-19  Acquired  United States           0.0  \n",
       "2405                 0.20  2020-03-18      Seed  United States           4.0  \n",
       "2406                 0.22  2020-03-16  Series C  United States          79.0  \n",
       "2407                 1.00  2020-03-16      Seed  United States           6.0  \n",
       "2408                 1.00  2020-03-16      Seed  United States           5.1  \n",
       "2409                 0.10  2020-03-13   Unknown  United States          45.0  \n",
       "2410                 0.75  2020-03-13      Seed  United States           1.0  \n",
       "2411                 0.40  2020-03-12  Series C  United States          90.0  \n",
       "2412                  NaN  2020-03-11  Series A  United States          12.0  \n",
       "2413                 0.14         NaN  Post-IPO  United States           NaN  "
      ]
     },
     "execution_count": 140,
     "metadata": {},
     "output_type": "execute_result"
    }
   ],
   "source": [
    "df.tail(10)"
   ]
  },
  {
   "cell_type": "code",
   "execution_count": 141,
   "metadata": {},
   "outputs": [
    {
     "data": {
      "text/plain": [
       "(2414, 9)"
      ]
     },
     "execution_count": 141,
     "metadata": {},
     "output_type": "execute_result"
    }
   ],
   "source": [
    "df.shape"
   ]
  },
  {
   "cell_type": "code",
   "execution_count": 142,
   "metadata": {},
   "outputs": [
    {
     "data": {
      "text/html": [
       "<div>\n",
       "<style scoped>\n",
       "    .dataframe tbody tr th:only-of-type {\n",
       "        vertical-align: middle;\n",
       "    }\n",
       "\n",
       "    .dataframe tbody tr th {\n",
       "        vertical-align: top;\n",
       "    }\n",
       "\n",
       "    .dataframe thead th {\n",
       "        text-align: right;\n",
       "    }\n",
       "</style>\n",
       "<table border=\"1\" class=\"dataframe\">\n",
       "  <thead>\n",
       "    <tr style=\"text-align: right;\">\n",
       "      <th></th>\n",
       "      <th>total_laid_off</th>\n",
       "      <th>percentage_laid_off</th>\n",
       "      <th>funds_raised</th>\n",
       "    </tr>\n",
       "  </thead>\n",
       "  <tbody>\n",
       "    <tr>\n",
       "      <th>count</th>\n",
       "      <td>1653.000000</td>\n",
       "      <td>1605.000000</td>\n",
       "      <td>2193.000000</td>\n",
       "    </tr>\n",
       "    <tr>\n",
       "      <th>mean</th>\n",
       "      <td>247.580157</td>\n",
       "      <td>0.257967</td>\n",
       "      <td>826.303828</td>\n",
       "    </tr>\n",
       "    <tr>\n",
       "      <th>std</th>\n",
       "      <td>828.240611</td>\n",
       "      <td>0.256444</td>\n",
       "      <td>5568.453605</td>\n",
       "    </tr>\n",
       "    <tr>\n",
       "      <th>min</th>\n",
       "      <td>3.000000</td>\n",
       "      <td>0.000000</td>\n",
       "      <td>0.000000</td>\n",
       "    </tr>\n",
       "    <tr>\n",
       "      <th>25%</th>\n",
       "      <td>36.000000</td>\n",
       "      <td>0.100000</td>\n",
       "      <td>50.000000</td>\n",
       "    </tr>\n",
       "    <tr>\n",
       "      <th>50%</th>\n",
       "      <td>80.000000</td>\n",
       "      <td>0.170000</td>\n",
       "      <td>157.000000</td>\n",
       "    </tr>\n",
       "    <tr>\n",
       "      <th>75%</th>\n",
       "      <td>180.000000</td>\n",
       "      <td>0.300000</td>\n",
       "      <td>447.000000</td>\n",
       "    </tr>\n",
       "    <tr>\n",
       "      <th>max</th>\n",
       "      <td>12000.000000</td>\n",
       "      <td>1.000000</td>\n",
       "      <td>121900.000000</td>\n",
       "    </tr>\n",
       "  </tbody>\n",
       "</table>\n",
       "</div>"
      ],
      "text/plain": [
       "       total_laid_off  percentage_laid_off   funds_raised\n",
       "count     1653.000000          1605.000000    2193.000000\n",
       "mean       247.580157             0.257967     826.303828\n",
       "std        828.240611             0.256444    5568.453605\n",
       "min          3.000000             0.000000       0.000000\n",
       "25%         36.000000             0.100000      50.000000\n",
       "50%         80.000000             0.170000     157.000000\n",
       "75%        180.000000             0.300000     447.000000\n",
       "max      12000.000000             1.000000  121900.000000"
      ]
     },
     "execution_count": 142,
     "metadata": {},
     "output_type": "execute_result"
    }
   ],
   "source": [
    "df.describe()"
   ]
  },
  {
   "cell_type": "code",
   "execution_count": 143,
   "metadata": {},
   "outputs": [
    {
     "data": {
      "text/plain": [
       "company                 object\n",
       "location                object\n",
       "industry                object\n",
       "total_laid_off         float64\n",
       "percentage_laid_off    float64\n",
       "date                    object\n",
       "stage                   object\n",
       "country                 object\n",
       "funds_raised           float64\n",
       "dtype: object"
      ]
     },
     "execution_count": 143,
     "metadata": {},
     "output_type": "execute_result"
    }
   ],
   "source": [
    "df.dtypes"
   ]
  },
  {
   "cell_type": "code",
   "execution_count": 144,
   "metadata": {},
   "outputs": [
    {
     "data": {
      "text/plain": [
       "company                  0\n",
       "location                 0\n",
       "industry                 2\n",
       "total_laid_off         761\n",
       "percentage_laid_off    809\n",
       "date                     1\n",
       "stage                    6\n",
       "country                  0\n",
       "funds_raised           221\n",
       "dtype: int64"
      ]
     },
     "execution_count": 144,
     "metadata": {},
     "output_type": "execute_result"
    }
   ],
   "source": [
    "# checking for missing values\n",
    "\n",
    "df.isnull().sum()"
   ]
  },
  {
   "cell_type": "markdown",
   "metadata": {},
   "source": [
    "#### we can see a lot of missing values(NAN) in the 'total_laid_off' column, since no of Layoff per company is the important data and unique per company, we can't substitue it , let us fill those values with zeroes."
   ]
  },
  {
   "cell_type": "code",
   "execution_count": 145,
   "metadata": {},
   "outputs": [],
   "source": [
    "df.fillna(0,inplace = True)"
   ]
  },
  {
   "cell_type": "code",
   "execution_count": 146,
   "metadata": {},
   "outputs": [
    {
     "data": {
      "text/html": [
       "<div>\n",
       "<style scoped>\n",
       "    .dataframe tbody tr th:only-of-type {\n",
       "        vertical-align: middle;\n",
       "    }\n",
       "\n",
       "    .dataframe tbody tr th {\n",
       "        vertical-align: top;\n",
       "    }\n",
       "\n",
       "    .dataframe thead th {\n",
       "        text-align: right;\n",
       "    }\n",
       "</style>\n",
       "<table border=\"1\" class=\"dataframe\">\n",
       "  <thead>\n",
       "    <tr style=\"text-align: right;\">\n",
       "      <th></th>\n",
       "      <th>company</th>\n",
       "      <th>location</th>\n",
       "      <th>industry</th>\n",
       "      <th>total_laid_off</th>\n",
       "      <th>percentage_laid_off</th>\n",
       "      <th>date</th>\n",
       "      <th>stage</th>\n",
       "      <th>country</th>\n",
       "      <th>funds_raised</th>\n",
       "    </tr>\n",
       "  </thead>\n",
       "  <tbody>\n",
       "    <tr>\n",
       "      <th>0</th>\n",
       "      <td>Just Eat</td>\n",
       "      <td>London</td>\n",
       "      <td>Food</td>\n",
       "      <td>1700.0</td>\n",
       "      <td>0.00</td>\n",
       "      <td>2023-03-21</td>\n",
       "      <td>Acquired</td>\n",
       "      <td>United Kingdom</td>\n",
       "      <td>0.0</td>\n",
       "    </tr>\n",
       "    <tr>\n",
       "      <th>1</th>\n",
       "      <td>Marvell</td>\n",
       "      <td>SF Bay Area</td>\n",
       "      <td>Hardware</td>\n",
       "      <td>320.0</td>\n",
       "      <td>0.04</td>\n",
       "      <td>2023-03-21</td>\n",
       "      <td>Post-IPO</td>\n",
       "      <td>United States</td>\n",
       "      <td>0.0</td>\n",
       "    </tr>\n",
       "    <tr>\n",
       "      <th>2</th>\n",
       "      <td>Workhuman</td>\n",
       "      <td>Dublin</td>\n",
       "      <td>HR</td>\n",
       "      <td>130.0</td>\n",
       "      <td>0.10</td>\n",
       "      <td>2023-03-21</td>\n",
       "      <td>Unknown</td>\n",
       "      <td>Ireland</td>\n",
       "      <td>131.0</td>\n",
       "    </tr>\n",
       "    <tr>\n",
       "      <th>3</th>\n",
       "      <td>FreshBooks</td>\n",
       "      <td>Toronto</td>\n",
       "      <td>Finance</td>\n",
       "      <td>80.0</td>\n",
       "      <td>0.10</td>\n",
       "      <td>2023-03-21</td>\n",
       "      <td>Unknown</td>\n",
       "      <td>Canada</td>\n",
       "      <td>331.0</td>\n",
       "    </tr>\n",
       "    <tr>\n",
       "      <th>4</th>\n",
       "      <td>Xing</td>\n",
       "      <td>Hamburg</td>\n",
       "      <td>HR</td>\n",
       "      <td>68.0</td>\n",
       "      <td>0.00</td>\n",
       "      <td>2023-03-21</td>\n",
       "      <td>Series A</td>\n",
       "      <td>Germany</td>\n",
       "      <td>0.0</td>\n",
       "    </tr>\n",
       "    <tr>\n",
       "      <th>5</th>\n",
       "      <td>Mr Yum</td>\n",
       "      <td>Melbourne</td>\n",
       "      <td>Food</td>\n",
       "      <td>40.0</td>\n",
       "      <td>0.00</td>\n",
       "      <td>2023-03-21</td>\n",
       "      <td>Series A</td>\n",
       "      <td>Australia</td>\n",
       "      <td>101.0</td>\n",
       "    </tr>\n",
       "    <tr>\n",
       "      <th>6</th>\n",
       "      <td>Smallcase</td>\n",
       "      <td>Bengaluru</td>\n",
       "      <td>Finance</td>\n",
       "      <td>15.0</td>\n",
       "      <td>0.04</td>\n",
       "      <td>2023-03-21</td>\n",
       "      <td>Series C</td>\n",
       "      <td>India</td>\n",
       "      <td>62.0</td>\n",
       "    </tr>\n",
       "    <tr>\n",
       "      <th>7</th>\n",
       "      <td>Laybuy</td>\n",
       "      <td>Auckland</td>\n",
       "      <td>Finance</td>\n",
       "      <td>0.0</td>\n",
       "      <td>0.10</td>\n",
       "      <td>2023-03-21</td>\n",
       "      <td>Post-IPO</td>\n",
       "      <td>New Zealand</td>\n",
       "      <td>130.0</td>\n",
       "    </tr>\n",
       "    <tr>\n",
       "      <th>8</th>\n",
       "      <td>Amazon</td>\n",
       "      <td>Seattle</td>\n",
       "      <td>Retail</td>\n",
       "      <td>9000.0</td>\n",
       "      <td>0.00</td>\n",
       "      <td>2023-03-20</td>\n",
       "      <td>Post-IPO</td>\n",
       "      <td>United States</td>\n",
       "      <td>108.0</td>\n",
       "    </tr>\n",
       "    <tr>\n",
       "      <th>9</th>\n",
       "      <td>Huuuge Games</td>\n",
       "      <td>Warsaw</td>\n",
       "      <td>Consumer</td>\n",
       "      <td>0.0</td>\n",
       "      <td>0.10</td>\n",
       "      <td>2023-03-20</td>\n",
       "      <td>Series C</td>\n",
       "      <td>Poland</td>\n",
       "      <td>57.0</td>\n",
       "    </tr>\n",
       "    <tr>\n",
       "      <th>10</th>\n",
       "      <td>Livspace</td>\n",
       "      <td>Bengaluru</td>\n",
       "      <td>Retail</td>\n",
       "      <td>100.0</td>\n",
       "      <td>0.02</td>\n",
       "      <td>2023-03-17</td>\n",
       "      <td>Series F</td>\n",
       "      <td>India</td>\n",
       "      <td>431.0</td>\n",
       "    </tr>\n",
       "    <tr>\n",
       "      <th>11</th>\n",
       "      <td>Candor Technology</td>\n",
       "      <td>Atlanta</td>\n",
       "      <td>Real Estate</td>\n",
       "      <td>0.0</td>\n",
       "      <td>0.00</td>\n",
       "      <td>2023-03-17</td>\n",
       "      <td>Unknown</td>\n",
       "      <td>United States</td>\n",
       "      <td>23.0</td>\n",
       "    </tr>\n",
       "    <tr>\n",
       "      <th>12</th>\n",
       "      <td>Coherent</td>\n",
       "      <td>SF Bay Area</td>\n",
       "      <td>Manufacturing</td>\n",
       "      <td>108.0</td>\n",
       "      <td>0.00</td>\n",
       "      <td>2023-03-16</td>\n",
       "      <td>Post-IPO</td>\n",
       "      <td>United States</td>\n",
       "      <td>0.0</td>\n",
       "    </tr>\n",
       "    <tr>\n",
       "      <th>13</th>\n",
       "      <td>Runtastic</td>\n",
       "      <td>Linz</td>\n",
       "      <td>Fitness</td>\n",
       "      <td>70.0</td>\n",
       "      <td>0.28</td>\n",
       "      <td>2023-03-16</td>\n",
       "      <td>Acquired</td>\n",
       "      <td>Austria</td>\n",
       "      <td>0.0</td>\n",
       "    </tr>\n",
       "    <tr>\n",
       "      <th>14</th>\n",
       "      <td>Course Hero</td>\n",
       "      <td>SF Bay Area</td>\n",
       "      <td>Education</td>\n",
       "      <td>42.0</td>\n",
       "      <td>0.15</td>\n",
       "      <td>2023-03-16</td>\n",
       "      <td>Series C</td>\n",
       "      <td>United States</td>\n",
       "      <td>477.0</td>\n",
       "    </tr>\n",
       "  </tbody>\n",
       "</table>\n",
       "</div>"
      ],
      "text/plain": [
       "              company     location       industry  total_laid_off  \\\n",
       "0            Just Eat       London           Food          1700.0   \n",
       "1             Marvell  SF Bay Area       Hardware           320.0   \n",
       "2           Workhuman       Dublin             HR           130.0   \n",
       "3          FreshBooks      Toronto        Finance            80.0   \n",
       "4                Xing      Hamburg             HR            68.0   \n",
       "5              Mr Yum    Melbourne           Food            40.0   \n",
       "6           Smallcase    Bengaluru        Finance            15.0   \n",
       "7              Laybuy     Auckland        Finance             0.0   \n",
       "8              Amazon      Seattle         Retail          9000.0   \n",
       "9        Huuuge Games       Warsaw       Consumer             0.0   \n",
       "10           Livspace    Bengaluru         Retail           100.0   \n",
       "11  Candor Technology      Atlanta    Real Estate             0.0   \n",
       "12           Coherent  SF Bay Area  Manufacturing           108.0   \n",
       "13          Runtastic         Linz        Fitness            70.0   \n",
       "14        Course Hero  SF Bay Area      Education            42.0   \n",
       "\n",
       "    percentage_laid_off        date     stage         country  funds_raised  \n",
       "0                  0.00  2023-03-21  Acquired  United Kingdom           0.0  \n",
       "1                  0.04  2023-03-21  Post-IPO   United States           0.0  \n",
       "2                  0.10  2023-03-21   Unknown         Ireland         131.0  \n",
       "3                  0.10  2023-03-21   Unknown          Canada         331.0  \n",
       "4                  0.00  2023-03-21  Series A         Germany           0.0  \n",
       "5                  0.00  2023-03-21  Series A       Australia         101.0  \n",
       "6                  0.04  2023-03-21  Series C           India          62.0  \n",
       "7                  0.10  2023-03-21  Post-IPO     New Zealand         130.0  \n",
       "8                  0.00  2023-03-20  Post-IPO   United States         108.0  \n",
       "9                  0.10  2023-03-20  Series C          Poland          57.0  \n",
       "10                 0.02  2023-03-17  Series F           India         431.0  \n",
       "11                 0.00  2023-03-17   Unknown   United States          23.0  \n",
       "12                 0.00  2023-03-16  Post-IPO   United States           0.0  \n",
       "13                 0.28  2023-03-16  Acquired         Austria           0.0  \n",
       "14                 0.15  2023-03-16  Series C   United States         477.0  "
      ]
     },
     "execution_count": 146,
     "metadata": {},
     "output_type": "execute_result"
    }
   ],
   "source": [
    "df.head(15)"
   ]
  },
  {
   "cell_type": "code",
   "execution_count": 147,
   "metadata": {},
   "outputs": [
    {
     "data": {
      "text/plain": [
       "company                0\n",
       "location               0\n",
       "industry               0\n",
       "total_laid_off         0\n",
       "percentage_laid_off    0\n",
       "date                   0\n",
       "stage                  0\n",
       "country                0\n",
       "funds_raised           0\n",
       "dtype: int64"
      ]
     },
     "execution_count": 147,
     "metadata": {},
     "output_type": "execute_result"
    }
   ],
   "source": [
    "df.isnull().sum()"
   ]
  },
  {
   "cell_type": "markdown",
   "metadata": {},
   "source": [
    "### companies with high no of layoffs"
   ]
  },
  {
   "cell_type": "code",
   "execution_count": 148,
   "metadata": {},
   "outputs": [],
   "source": [
    "top_companies = df.nlargest(10,'total_laid_off')"
   ]
  },
  {
   "cell_type": "code",
   "execution_count": 149,
   "metadata": {},
   "outputs": [
    {
     "data": {
      "text/html": [
       "<div>\n",
       "<style scoped>\n",
       "    .dataframe tbody tr th:only-of-type {\n",
       "        vertical-align: middle;\n",
       "    }\n",
       "\n",
       "    .dataframe tbody tr th {\n",
       "        vertical-align: top;\n",
       "    }\n",
       "\n",
       "    .dataframe thead th {\n",
       "        text-align: right;\n",
       "    }\n",
       "</style>\n",
       "<table border=\"1\" class=\"dataframe\">\n",
       "  <thead>\n",
       "    <tr style=\"text-align: right;\">\n",
       "      <th></th>\n",
       "      <th>company</th>\n",
       "      <th>location</th>\n",
       "      <th>industry</th>\n",
       "      <th>total_laid_off</th>\n",
       "      <th>percentage_laid_off</th>\n",
       "      <th>date</th>\n",
       "      <th>stage</th>\n",
       "      <th>country</th>\n",
       "      <th>funds_raised</th>\n",
       "    </tr>\n",
       "  </thead>\n",
       "  <tbody>\n",
       "    <tr>\n",
       "      <th>334</th>\n",
       "      <td>Google</td>\n",
       "      <td>SF Bay Area</td>\n",
       "      <td>Consumer</td>\n",
       "      <td>12000.0</td>\n",
       "      <td>0.06</td>\n",
       "      <td>2023-01-20</td>\n",
       "      <td>Post-IPO</td>\n",
       "      <td>United States</td>\n",
       "      <td>26.0</td>\n",
       "    </tr>\n",
       "    <tr>\n",
       "      <th>806</th>\n",
       "      <td>Meta</td>\n",
       "      <td>SF Bay Area</td>\n",
       "      <td>Consumer</td>\n",
       "      <td>11000.0</td>\n",
       "      <td>0.13</td>\n",
       "      <td>2022-11-09</td>\n",
       "      <td>Post-IPO</td>\n",
       "      <td>United States</td>\n",
       "      <td>26000.0</td>\n",
       "    </tr>\n",
       "    <tr>\n",
       "      <th>23</th>\n",
       "      <td>Meta</td>\n",
       "      <td>SF Bay Area</td>\n",
       "      <td>Consumer</td>\n",
       "      <td>10000.0</td>\n",
       "      <td>0.00</td>\n",
       "      <td>2023-03-14</td>\n",
       "      <td>Post-IPO</td>\n",
       "      <td>United States</td>\n",
       "      <td>26000.0</td>\n",
       "    </tr>\n",
       "    <tr>\n",
       "      <th>367</th>\n",
       "      <td>Microsoft</td>\n",
       "      <td>Seattle</td>\n",
       "      <td>Other</td>\n",
       "      <td>10000.0</td>\n",
       "      <td>0.05</td>\n",
       "      <td>2023-01-18</td>\n",
       "      <td>Post-IPO</td>\n",
       "      <td>United States</td>\n",
       "      <td>1.0</td>\n",
       "    </tr>\n",
       "    <tr>\n",
       "      <th>738</th>\n",
       "      <td>Amazon</td>\n",
       "      <td>Seattle</td>\n",
       "      <td>Retail</td>\n",
       "      <td>10000.0</td>\n",
       "      <td>0.03</td>\n",
       "      <td>2022-11-16</td>\n",
       "      <td>Post-IPO</td>\n",
       "      <td>United States</td>\n",
       "      <td>108.0</td>\n",
       "    </tr>\n",
       "    <tr>\n",
       "      <th>8</th>\n",
       "      <td>Amazon</td>\n",
       "      <td>Seattle</td>\n",
       "      <td>Retail</td>\n",
       "      <td>9000.0</td>\n",
       "      <td>0.00</td>\n",
       "      <td>2023-03-20</td>\n",
       "      <td>Post-IPO</td>\n",
       "      <td>United States</td>\n",
       "      <td>108.0</td>\n",
       "    </tr>\n",
       "    <tr>\n",
       "      <th>89</th>\n",
       "      <td>Ericsson</td>\n",
       "      <td>Stockholm</td>\n",
       "      <td>Other</td>\n",
       "      <td>8500.0</td>\n",
       "      <td>0.08</td>\n",
       "      <td>2023-02-24</td>\n",
       "      <td>Post-IPO</td>\n",
       "      <td>Sweden</td>\n",
       "      <td>663.0</td>\n",
       "    </tr>\n",
       "    <tr>\n",
       "      <th>507</th>\n",
       "      <td>Amazon</td>\n",
       "      <td>Seattle</td>\n",
       "      <td>Retail</td>\n",
       "      <td>8000.0</td>\n",
       "      <td>0.02</td>\n",
       "      <td>2023-01-04</td>\n",
       "      <td>Post-IPO</td>\n",
       "      <td>United States</td>\n",
       "      <td>108.0</td>\n",
       "    </tr>\n",
       "    <tr>\n",
       "      <th>508</th>\n",
       "      <td>Salesforce</td>\n",
       "      <td>SF Bay Area</td>\n",
       "      <td>Sales</td>\n",
       "      <td>8000.0</td>\n",
       "      <td>0.10</td>\n",
       "      <td>2023-01-04</td>\n",
       "      <td>Post-IPO</td>\n",
       "      <td>United States</td>\n",
       "      <td>65.0</td>\n",
       "    </tr>\n",
       "    <tr>\n",
       "      <th>200</th>\n",
       "      <td>Dell</td>\n",
       "      <td>Austin</td>\n",
       "      <td>Hardware</td>\n",
       "      <td>6650.0</td>\n",
       "      <td>0.05</td>\n",
       "      <td>2023-02-06</td>\n",
       "      <td>Post-IPO</td>\n",
       "      <td>United States</td>\n",
       "      <td>0.0</td>\n",
       "    </tr>\n",
       "  </tbody>\n",
       "</table>\n",
       "</div>"
      ],
      "text/plain": [
       "        company     location  industry  total_laid_off  percentage_laid_off  \\\n",
       "334      Google  SF Bay Area  Consumer         12000.0                 0.06   \n",
       "806        Meta  SF Bay Area  Consumer         11000.0                 0.13   \n",
       "23         Meta  SF Bay Area  Consumer         10000.0                 0.00   \n",
       "367   Microsoft      Seattle     Other         10000.0                 0.05   \n",
       "738      Amazon      Seattle    Retail         10000.0                 0.03   \n",
       "8        Amazon      Seattle    Retail          9000.0                 0.00   \n",
       "89     Ericsson    Stockholm     Other          8500.0                 0.08   \n",
       "507      Amazon      Seattle    Retail          8000.0                 0.02   \n",
       "508  Salesforce  SF Bay Area     Sales          8000.0                 0.10   \n",
       "200        Dell       Austin  Hardware          6650.0                 0.05   \n",
       "\n",
       "           date     stage        country  funds_raised  \n",
       "334  2023-01-20  Post-IPO  United States          26.0  \n",
       "806  2022-11-09  Post-IPO  United States       26000.0  \n",
       "23   2023-03-14  Post-IPO  United States       26000.0  \n",
       "367  2023-01-18  Post-IPO  United States           1.0  \n",
       "738  2022-11-16  Post-IPO  United States         108.0  \n",
       "8    2023-03-20  Post-IPO  United States         108.0  \n",
       "89   2023-02-24  Post-IPO         Sweden         663.0  \n",
       "507  2023-01-04  Post-IPO  United States         108.0  \n",
       "508  2023-01-04  Post-IPO  United States          65.0  \n",
       "200  2023-02-06  Post-IPO  United States           0.0  "
      ]
     },
     "execution_count": 149,
     "metadata": {},
     "output_type": "execute_result"
    }
   ],
   "source": [
    "top_companies"
   ]
  },
  {
   "cell_type": "code",
   "execution_count": 150,
   "metadata": {},
   "outputs": [
    {
     "data": {
      "image/png": "[encoded data removed]",
      "text/plain": [
       "<Figure size 864x576 with 1 Axes>"
      ]
     },
     "metadata": {
      "needs_background": "light"
     },
     "output_type": "display_data"
    }
   ],
   "source": [
    "plt.figure(figsize = (12,8))\n",
    "sns.barplot(x = top_companies.company, y = top_companies.total_laid_off)\n",
    "plt.title('Top companies Layoffs')\n",
    "plt.xlabel('Top Companies')\n",
    "plt.ylabel('Layoffs')\n",
    "plt.show();"
   ]
  },
  {
   "cell_type": "markdown",
   "metadata": {},
   "source": [
    "### <><><><><><><><><><><><><><><><>><><><><><><><><><><><><><><><><>><><><><><><><><><>><"
   ]
  },
  {
   "cell_type": "code",
   "execution_count": 151,
   "metadata": {},
   "outputs": [
    {
     "data": {
      "text/plain": [
       "array(['United Kingdom', 'United States', 'Ireland', 'Canada', 'Germany',\n",
       "       'Australia', 'India', 'New Zealand', 'Poland', 'Austria',\n",
       "       'Indonesia', 'Japan', 'Nigeria', 'France', 'Brazil', 'Switzerland',\n",
       "       'Israel', 'Sweden', 'South Korea', 'China', 'Italy', 'Singapore',\n",
       "       'Estonia', 'Finland', 'Netherlands', 'Spain', 'Portugal', 'Chile',\n",
       "       'Colombia', 'Argentina', 'Seychelles', 'Mexico', 'Egypt', 'Kenya',\n",
       "       'Luxembourg', 'Greece', 'Norway', 'Belgium', 'Denmark',\n",
       "       'Hong Kong', 'Malaysia', 'Hungary', 'Vietnam', 'Thailand',\n",
       "       'Lithuania', 'Ghana', 'Senegal', 'Pakistan',\n",
       "       'United Arab Emirates', 'Peru', 'Bahrain', 'Romania', 'Turkey',\n",
       "       'Russia', 'Uruguay', 'Bulgaria', 'South Africa', 'Czech Republic',\n",
       "       'Myanmar'], dtype=object)"
      ]
     },
     "execution_count": 151,
     "metadata": {},
     "output_type": "execute_result"
    }
   ],
   "source": [
    "df['country'].unique()"
   ]
  },
  {
   "cell_type": "markdown",
   "metadata": {},
   "source": [
    "### Indian companies and their layoffs (>1000)"
   ]
  },
  {
   "cell_type": "code",
   "execution_count": 152,
   "metadata": {},
   "outputs": [],
   "source": [
    "indian_companies = df[df['country'] == 'India']"
   ]
  },
  {
   "cell_type": "code",
   "execution_count": 153,
   "metadata": {},
   "outputs": [
    {
     "data": {
      "text/html": [
       "<div>\n",
       "<style scoped>\n",
       "    .dataframe tbody tr th:only-of-type {\n",
       "        vertical-align: middle;\n",
       "    }\n",
       "\n",
       "    .dataframe tbody tr th {\n",
       "        vertical-align: top;\n",
       "    }\n",
       "\n",
       "    .dataframe thead th {\n",
       "        text-align: right;\n",
       "    }\n",
       "</style>\n",
       "<table border=\"1\" class=\"dataframe\">\n",
       "  <thead>\n",
       "    <tr style=\"text-align: right;\">\n",
       "      <th></th>\n",
       "      <th>company</th>\n",
       "      <th>location</th>\n",
       "      <th>industry</th>\n",
       "      <th>total_laid_off</th>\n",
       "      <th>percentage_laid_off</th>\n",
       "      <th>date</th>\n",
       "      <th>stage</th>\n",
       "      <th>country</th>\n",
       "      <th>funds_raised</th>\n",
       "    </tr>\n",
       "  </thead>\n",
       "  <tbody>\n",
       "    <tr>\n",
       "      <th>2278</th>\n",
       "      <td>Acko</td>\n",
       "      <td>Mumbai</td>\n",
       "      <td>Finance</td>\n",
       "      <td>45.0</td>\n",
       "      <td>0.09</td>\n",
       "      <td>2020-04-01</td>\n",
       "      <td>Unknown</td>\n",
       "      <td>India</td>\n",
       "      <td>143.0</td>\n",
       "    </tr>\n",
       "    <tr>\n",
       "      <th>2310</th>\n",
       "      <td>FabHotels</td>\n",
       "      <td>New Delhi</td>\n",
       "      <td>Travel</td>\n",
       "      <td>80.0</td>\n",
       "      <td>0.20</td>\n",
       "      <td>2020-03-30</td>\n",
       "      <td>Series B</td>\n",
       "      <td>India</td>\n",
       "      <td>48.0</td>\n",
       "    </tr>\n",
       "    <tr>\n",
       "      <th>2324</th>\n",
       "      <td>TravelTriangle</td>\n",
       "      <td>Gurugram</td>\n",
       "      <td>Travel</td>\n",
       "      <td>250.0</td>\n",
       "      <td>0.50</td>\n",
       "      <td>2020-03-28</td>\n",
       "      <td>Series D</td>\n",
       "      <td>India</td>\n",
       "      <td>47.0</td>\n",
       "    </tr>\n",
       "    <tr>\n",
       "      <th>2351</th>\n",
       "      <td>Fareportal</td>\n",
       "      <td>Gurugram</td>\n",
       "      <td>Travel</td>\n",
       "      <td>200.0</td>\n",
       "      <td>0.00</td>\n",
       "      <td>2020-03-26</td>\n",
       "      <td>Unknown</td>\n",
       "      <td>India</td>\n",
       "      <td>0.0</td>\n",
       "    </tr>\n",
       "    <tr>\n",
       "      <th>2398</th>\n",
       "      <td>Bounce</td>\n",
       "      <td>Bengaluru</td>\n",
       "      <td>Transportation</td>\n",
       "      <td>120.0</td>\n",
       "      <td>0.00</td>\n",
       "      <td>2020-03-19</td>\n",
       "      <td>Series D</td>\n",
       "      <td>India</td>\n",
       "      <td>214.0</td>\n",
       "    </tr>\n",
       "  </tbody>\n",
       "</table>\n",
       "</div>"
      ],
      "text/plain": [
       "             company   location        industry  total_laid_off  \\\n",
       "2278            Acko     Mumbai         Finance            45.0   \n",
       "2310       FabHotels  New Delhi          Travel            80.0   \n",
       "2324  TravelTriangle   Gurugram          Travel           250.0   \n",
       "2351      Fareportal   Gurugram          Travel           200.0   \n",
       "2398          Bounce  Bengaluru  Transportation           120.0   \n",
       "\n",
       "      percentage_laid_off        date     stage country  funds_raised  \n",
       "2278                 0.09  2020-04-01   Unknown   India         143.0  \n",
       "2310                 0.20  2020-03-30  Series B   India          48.0  \n",
       "2324                 0.50  2020-03-28  Series D   India          47.0  \n",
       "2351                 0.00  2020-03-26   Unknown   India           0.0  \n",
       "2398                 0.00  2020-03-19  Series D   India         214.0  "
      ]
     },
     "execution_count": 153,
     "metadata": {},
     "output_type": "execute_result"
    }
   ],
   "source": [
    "indian_companies.tail(5)"
   ]
  },
  {
   "cell_type": "code",
   "execution_count": 154,
   "metadata": {},
   "outputs": [
    {
     "name": "stdout",
     "output_type": "stream",
     "text": [
      "7\n"
     ]
    }
   ],
   "source": [
    "# number of indian companies whose layoffs exceed 1000\n",
    "\n",
    "print(sum(indian_companies['total_laid_off']>1000))"
   ]
  },
  {
   "cell_type": "code",
   "execution_count": 155,
   "metadata": {
    "scrolled": true
   },
   "outputs": [
    {
     "data": {
      "text/html": [
       "<div>\n",
       "<style scoped>\n",
       "    .dataframe tbody tr th:only-of-type {\n",
       "        vertical-align: middle;\n",
       "    }\n",
       "\n",
       "    .dataframe tbody tr th {\n",
       "        vertical-align: top;\n",
       "    }\n",
       "\n",
       "    .dataframe thead th {\n",
       "        text-align: right;\n",
       "    }\n",
       "</style>\n",
       "<table border=\"1\" class=\"dataframe\">\n",
       "  <thead>\n",
       "    <tr style=\"text-align: right;\">\n",
       "      <th></th>\n",
       "      <th>company</th>\n",
       "      <th>location</th>\n",
       "      <th>industry</th>\n",
       "      <th>total_laid_off</th>\n",
       "      <th>percentage_laid_off</th>\n",
       "      <th>date</th>\n",
       "      <th>stage</th>\n",
       "      <th>country</th>\n",
       "      <th>funds_raised</th>\n",
       "    </tr>\n",
       "  </thead>\n",
       "  <tbody>\n",
       "    <tr>\n",
       "      <th>215</th>\n",
       "      <td>Byju's</td>\n",
       "      <td>Bengaluru</td>\n",
       "      <td>Education</td>\n",
       "      <td>1500.0</td>\n",
       "      <td>0.00</td>\n",
       "      <td>2023-02-02</td>\n",
       "      <td>Private Equity</td>\n",
       "      <td>India</td>\n",
       "      <td>5500.0</td>\n",
       "    </tr>\n",
       "    <tr>\n",
       "      <th>946</th>\n",
       "      <td>Byju's</td>\n",
       "      <td>Bengaluru</td>\n",
       "      <td>Education</td>\n",
       "      <td>2500.0</td>\n",
       "      <td>0.05</td>\n",
       "      <td>2022-10-12</td>\n",
       "      <td>Private Equity</td>\n",
       "      <td>India</td>\n",
       "      <td>5500.0</td>\n",
       "    </tr>\n",
       "    <tr>\n",
       "      <th>1769</th>\n",
       "      <td>Bytedance</td>\n",
       "      <td>Mumbai</td>\n",
       "      <td>Consumer</td>\n",
       "      <td>1800.0</td>\n",
       "      <td>0.00</td>\n",
       "      <td>2021-01-27</td>\n",
       "      <td>Unknown</td>\n",
       "      <td>India</td>\n",
       "      <td>7400.0</td>\n",
       "    </tr>\n",
       "    <tr>\n",
       "      <th>1778</th>\n",
       "      <td>WhiteHat Jr</td>\n",
       "      <td>Mumbai</td>\n",
       "      <td>Education</td>\n",
       "      <td>1800.0</td>\n",
       "      <td>0.00</td>\n",
       "      <td>2021-01-06</td>\n",
       "      <td>Acquired</td>\n",
       "      <td>India</td>\n",
       "      <td>11.0</td>\n",
       "    </tr>\n",
       "    <tr>\n",
       "      <th>1884</th>\n",
       "      <td>PaisaBazaar</td>\n",
       "      <td>Gurugram</td>\n",
       "      <td>Finance</td>\n",
       "      <td>1500.0</td>\n",
       "      <td>0.50</td>\n",
       "      <td>2020-06-16</td>\n",
       "      <td>Series G</td>\n",
       "      <td>India</td>\n",
       "      <td>496.0</td>\n",
       "    </tr>\n",
       "    <tr>\n",
       "      <th>1931</th>\n",
       "      <td>Ola</td>\n",
       "      <td>Bengaluru</td>\n",
       "      <td>Transportation</td>\n",
       "      <td>1400.0</td>\n",
       "      <td>0.35</td>\n",
       "      <td>2020-05-20</td>\n",
       "      <td>Series J</td>\n",
       "      <td>India</td>\n",
       "      <td>3800.0</td>\n",
       "    </tr>\n",
       "    <tr>\n",
       "      <th>1943</th>\n",
       "      <td>Swiggy</td>\n",
       "      <td>Bengaluru</td>\n",
       "      <td>Food</td>\n",
       "      <td>1100.0</td>\n",
       "      <td>0.14</td>\n",
       "      <td>2020-05-18</td>\n",
       "      <td>Series I</td>\n",
       "      <td>India</td>\n",
       "      <td>1600.0</td>\n",
       "    </tr>\n",
       "  </tbody>\n",
       "</table>\n",
       "</div>"
      ],
      "text/plain": [
       "          company   location        industry  total_laid_off  \\\n",
       "215        Byju's  Bengaluru       Education          1500.0   \n",
       "946        Byju's  Bengaluru       Education          2500.0   \n",
       "1769    Bytedance     Mumbai        Consumer          1800.0   \n",
       "1778  WhiteHat Jr     Mumbai       Education          1800.0   \n",
       "1884  PaisaBazaar   Gurugram         Finance          1500.0   \n",
       "1931          Ola  Bengaluru  Transportation          1400.0   \n",
       "1943       Swiggy  Bengaluru            Food          1100.0   \n",
       "\n",
       "      percentage_laid_off        date           stage country  funds_raised  \n",
       "215                  0.00  2023-02-02  Private Equity   India        5500.0  \n",
       "946                  0.05  2022-10-12  Private Equity   India        5500.0  \n",
       "1769                 0.00  2021-01-27         Unknown   India        7400.0  \n",
       "1778                 0.00  2021-01-06        Acquired   India          11.0  \n",
       "1884                 0.50  2020-06-16        Series G   India         496.0  \n",
       "1931                 0.35  2020-05-20        Series J   India        3800.0  \n",
       "1943                 0.14  2020-05-18        Series I   India        1600.0  "
      ]
     },
     "execution_count": 155,
     "metadata": {},
     "output_type": "execute_result"
    }
   ],
   "source": [
    "indian_companies_layoffs_exceed_1000 = indian_companies[indian_companies.total_laid_off > 1000]\n",
    "indian_companies_layoffs_exceed_1000"
   ]
  },
  {
   "cell_type": "code",
   "execution_count": 156,
   "metadata": {},
   "outputs": [
    {
     "data": {
      "image/png": "[encoded data removed]",
      "text/plain": [
       "<Figure size 864x576 with 1 Axes>"
      ]
     },
     "metadata": {
      "needs_background": "light"
     },
     "output_type": "display_data"
    }
   ],
   "source": [
    "plt.figure(figsize = (12,8))\n",
    "sns.barplot(x = indian_companies_layoffs_exceed_1000.company, y = indian_companies_layoffs_exceed_1000.total_laid_off)\n",
    "plt.xlabel('Indian Companies (having layoffs greater than 1000)')\n",
    "plt.ylabel('Total Number of Layoffs')\n",
    "plt.title('Indian Companies and their Layoffs')\n",
    "plt.show()"
   ]
  },
  {
   "cell_type": "markdown",
   "metadata": {},
   "source": [
    "### <><><><><><><><><><><><><><><><>><><><><><><><><><><><><><><><><>><><><><><><><><><>><"
   ]
  },
  {
   "cell_type": "markdown",
   "metadata": {},
   "source": [
    "### Top Sectors by Layoffs"
   ]
  },
  {
   "cell_type": "code",
   "execution_count": 157,
   "metadata": {},
   "outputs": [
    {
     "data": {
      "text/html": [
       "<div>\n",
       "<style scoped>\n",
       "    .dataframe tbody tr th:only-of-type {\n",
       "        vertical-align: middle;\n",
       "    }\n",
       "\n",
       "    .dataframe tbody tr th {\n",
       "        vertical-align: top;\n",
       "    }\n",
       "\n",
       "    .dataframe thead th {\n",
       "        text-align: right;\n",
       "    }\n",
       "</style>\n",
       "<table border=\"1\" class=\"dataframe\">\n",
       "  <thead>\n",
       "    <tr style=\"text-align: right;\">\n",
       "      <th></th>\n",
       "      <th>company</th>\n",
       "      <th>location</th>\n",
       "      <th>industry</th>\n",
       "      <th>total_laid_off</th>\n",
       "      <th>percentage_laid_off</th>\n",
       "      <th>date</th>\n",
       "      <th>stage</th>\n",
       "      <th>country</th>\n",
       "      <th>funds_raised</th>\n",
       "    </tr>\n",
       "  </thead>\n",
       "  <tbody>\n",
       "    <tr>\n",
       "      <th>1</th>\n",
       "      <td>Marvell</td>\n",
       "      <td>SF Bay Area</td>\n",
       "      <td>Hardware</td>\n",
       "      <td>320.0</td>\n",
       "      <td>0.04</td>\n",
       "      <td>2023-03-21</td>\n",
       "      <td>Post-IPO</td>\n",
       "      <td>United States</td>\n",
       "      <td>0.0</td>\n",
       "    </tr>\n",
       "    <tr>\n",
       "      <th>8</th>\n",
       "      <td>Amazon</td>\n",
       "      <td>Seattle</td>\n",
       "      <td>Retail</td>\n",
       "      <td>9000.0</td>\n",
       "      <td>0.00</td>\n",
       "      <td>2023-03-20</td>\n",
       "      <td>Post-IPO</td>\n",
       "      <td>United States</td>\n",
       "      <td>108.0</td>\n",
       "    </tr>\n",
       "    <tr>\n",
       "      <th>11</th>\n",
       "      <td>Candor Technology</td>\n",
       "      <td>Atlanta</td>\n",
       "      <td>Real Estate</td>\n",
       "      <td>0.0</td>\n",
       "      <td>0.00</td>\n",
       "      <td>2023-03-17</td>\n",
       "      <td>Unknown</td>\n",
       "      <td>United States</td>\n",
       "      <td>23.0</td>\n",
       "    </tr>\n",
       "  </tbody>\n",
       "</table>\n",
       "</div>"
      ],
      "text/plain": [
       "              company     location     industry  total_laid_off  \\\n",
       "1             Marvell  SF Bay Area     Hardware           320.0   \n",
       "8              Amazon      Seattle       Retail          9000.0   \n",
       "11  Candor Technology      Atlanta  Real Estate             0.0   \n",
       "\n",
       "    percentage_laid_off        date     stage        country  funds_raised  \n",
       "1                  0.04  2023-03-21  Post-IPO  United States           0.0  \n",
       "8                  0.00  2023-03-20  Post-IPO  United States         108.0  \n",
       "11                 0.00  2023-03-17   Unknown  United States          23.0  "
      ]
     },
     "execution_count": 157,
     "metadata": {},
     "output_type": "execute_result"
    }
   ],
   "source": [
    "united_states_companies = df[df.country == 'United States']\n",
    "united_states_companies.head(3)"
   ]
  },
  {
   "cell_type": "code",
   "execution_count": 158,
   "metadata": {},
   "outputs": [
    {
     "data": {
      "image/png": "[encoded data removed]",
      "text/plain": [
       "<Figure size 576x432 with 1 Axes>"
      ]
     },
     "metadata": {
      "needs_background": "light"
     },
     "output_type": "display_data"
    }
   ],
   "source": [
    "sectors = np.array(df.groupby('industry')['total_laid_off'].sum().sort_values(ascending=False).head())\n",
    "name = np.array(['Transportation','Consumer','Retail','Finance','Food'])\n",
    "plt.figure(figsize= (8 ,6))\n",
    "plt.bar(name,sectors)\n",
    "plt.xlabel('Sectors')\n",
    "plt.ylabel('count')\n",
    "plt.title('Top Sectors by layoffs',fontdict={'size':18,'color':'red'})\n",
    "plt.show()"
   ]
  },
  {
   "cell_type": "code",
   "execution_count": 159,
   "metadata": {},
   "outputs": [
    {
     "data": {
      "image/png": "[encoded data removed]",
      "text/plain": [
       "<Figure size 576x432 with 1 Axes>"
      ]
     },
     "metadata": {
      "needs_background": "light"
     },
     "output_type": "display_data"
    }
   ],
   "source": [
    "sector_us = np.array(united_states_companies.groupby('industry')['total_laid_off'].sum().sort_values(ascending=False).head())\n",
    "sector_ind = np.array(indian_companies.groupby('industry')['total_laid_off'].sum().sort_values(ascending=False).head())\n",
    "name = np.array(['Transportation','Consumer','Retail','Finance','Food'])\n",
    "plt.figure(figsize= (8,6))\n",
    "plt.plot(name,sector_us, marker = 'o',label = 'US')\n",
    "plt.plot(name,sector_ind, marker = '*',label = 'India')\n",
    "plt.xlabel('Sectors',fontdict = {'size':10,'color':'blue'})\n",
    "plt.ylabel('count', fontdict = {'size':10, 'color':'blue'})\n",
    "plt.title('Top Sectors by layoffs India & United States',fontdict={'size':18,'color':'red'})\n",
    "plt.legend(['US','India'])\n",
    "plt.show()"
   ]
  },
  {
   "cell_type": "code",
   "execution_count": 160,
   "metadata": {},
   "outputs": [
    {
     "data": {
      "text/plain": [
       "<Figure size 504x504 with 0 Axes>"
      ]
     },
     "metadata": {},
     "output_type": "display_data"
    },
    {
     "data": {
      "image/png": "[encoded data removed]",
      "text/plain": [
       "<Figure size 360x360 with 1 Axes>"
      ]
     },
     "metadata": {
      "needs_background": "light"
     },
     "output_type": "display_data"
    }
   ],
   "source": [
    "plt.figure(figsize=(7,7))\n",
    "sns.displot(x=indian_companies['industry'], data=indian_companies)\n",
    "plt.title('Sectors Impacted')\n",
    "plt.xticks(rotation=90)\n",
    "plt.show();"
   ]
  },
  {
   "cell_type": "markdown",
   "metadata": {},
   "source": [
    "### <><><><><><><><><><><><><><><><>><><><><><><><><><><><><><><><><>><><><><><><><><><>><"
   ]
  },
  {
   "cell_type": "markdown",
   "metadata": {},
   "source": [
    "### Countries that are Mostly affected by layoffs :"
   ]
  },
  {
   "cell_type": "code",
   "execution_count": 161,
   "metadata": {},
   "outputs": [
    {
     "data": {
      "image/png": "[encoded data removed]",
      "text/plain": [
       "<Figure size 504x360 with 1 Axes>"
      ]
     },
     "metadata": {
      "needs_background": "light"
     },
     "output_type": "display_data"
    }
   ],
   "source": [
    "countries = np.array(df.groupby('country')['total_laid_off'].sum().sort_values(ascending = False).head())\n",
    "name = np.array(['US','India','Canada','UK','Brazil'])\n",
    "plt.figure(figsize = (7,5))\n",
    "sns.barplot(x = name,y = countries, data = df)\n",
    "plt.title(\"Most affected Countries by layoffs\")\n",
    "plt.show()"
   ]
  },
  {
   "cell_type": "markdown",
   "metadata": {},
   "source": [
    "### <><><><><><><><><><><><><><><><>><><><><><><><><><><><><><><><><>><><><><><><><><><>><"
   ]
  },
  {
   "cell_type": "markdown",
   "metadata": {},
   "source": [
    "### Total number of Layoffs - Year wise"
   ]
  },
  {
   "cell_type": "code",
   "execution_count": 162,
   "metadata": {},
   "outputs": [
    {
     "data": {
      "text/plain": [
       "0    2023-03-21\n",
       "1    2023-03-21\n",
       "2    2023-03-21\n",
       "3    2023-03-21\n",
       "4    2023-03-21\n",
       "Name: date, dtype: object"
      ]
     },
     "execution_count": 162,
     "metadata": {},
     "output_type": "execute_result"
    }
   ],
   "source": [
    "df_copy = df.copy()\n",
    "df_copy.date.head()"
   ]
  },
  {
   "cell_type": "code",
   "execution_count": 163,
   "metadata": {},
   "outputs": [
    {
     "data": {
      "text/html": [
       "<div>\n",
       "<style scoped>\n",
       "    .dataframe tbody tr th:only-of-type {\n",
       "        vertical-align: middle;\n",
       "    }\n",
       "\n",
       "    .dataframe tbody tr th {\n",
       "        vertical-align: top;\n",
       "    }\n",
       "\n",
       "    .dataframe thead th {\n",
       "        text-align: right;\n",
       "    }\n",
       "</style>\n",
       "<table border=\"1\" class=\"dataframe\">\n",
       "  <thead>\n",
       "    <tr style=\"text-align: right;\">\n",
       "      <th></th>\n",
       "      <th>company</th>\n",
       "      <th>location</th>\n",
       "      <th>industry</th>\n",
       "      <th>total_laid_off</th>\n",
       "      <th>percentage_laid_off</th>\n",
       "      <th>date</th>\n",
       "      <th>stage</th>\n",
       "      <th>country</th>\n",
       "      <th>funds_raised</th>\n",
       "      <th>year</th>\n",
       "      <th>day</th>\n",
       "      <th>month</th>\n",
       "    </tr>\n",
       "  </thead>\n",
       "  <tbody>\n",
       "    <tr>\n",
       "      <th>0</th>\n",
       "      <td>Just Eat</td>\n",
       "      <td>London</td>\n",
       "      <td>Food</td>\n",
       "      <td>1700.0</td>\n",
       "      <td>0.00</td>\n",
       "      <td>2023-03-21</td>\n",
       "      <td>Acquired</td>\n",
       "      <td>United Kingdom</td>\n",
       "      <td>0.0</td>\n",
       "      <td>2023</td>\n",
       "      <td>21</td>\n",
       "      <td>3</td>\n",
       "    </tr>\n",
       "    <tr>\n",
       "      <th>1</th>\n",
       "      <td>Marvell</td>\n",
       "      <td>SF Bay Area</td>\n",
       "      <td>Hardware</td>\n",
       "      <td>320.0</td>\n",
       "      <td>0.04</td>\n",
       "      <td>2023-03-21</td>\n",
       "      <td>Post-IPO</td>\n",
       "      <td>United States</td>\n",
       "      <td>0.0</td>\n",
       "      <td>2023</td>\n",
       "      <td>21</td>\n",
       "      <td>3</td>\n",
       "    </tr>\n",
       "    <tr>\n",
       "      <th>2</th>\n",
       "      <td>Workhuman</td>\n",
       "      <td>Dublin</td>\n",
       "      <td>HR</td>\n",
       "      <td>130.0</td>\n",
       "      <td>0.10</td>\n",
       "      <td>2023-03-21</td>\n",
       "      <td>Unknown</td>\n",
       "      <td>Ireland</td>\n",
       "      <td>131.0</td>\n",
       "      <td>2023</td>\n",
       "      <td>21</td>\n",
       "      <td>3</td>\n",
       "    </tr>\n",
       "    <tr>\n",
       "      <th>3</th>\n",
       "      <td>FreshBooks</td>\n",
       "      <td>Toronto</td>\n",
       "      <td>Finance</td>\n",
       "      <td>80.0</td>\n",
       "      <td>0.10</td>\n",
       "      <td>2023-03-21</td>\n",
       "      <td>Unknown</td>\n",
       "      <td>Canada</td>\n",
       "      <td>331.0</td>\n",
       "      <td>2023</td>\n",
       "      <td>21</td>\n",
       "      <td>3</td>\n",
       "    </tr>\n",
       "    <tr>\n",
       "      <th>4</th>\n",
       "      <td>Xing</td>\n",
       "      <td>Hamburg</td>\n",
       "      <td>HR</td>\n",
       "      <td>68.0</td>\n",
       "      <td>0.00</td>\n",
       "      <td>2023-03-21</td>\n",
       "      <td>Series A</td>\n",
       "      <td>Germany</td>\n",
       "      <td>0.0</td>\n",
       "      <td>2023</td>\n",
       "      <td>21</td>\n",
       "      <td>3</td>\n",
       "    </tr>\n",
       "  </tbody>\n",
       "</table>\n",
       "</div>"
      ],
      "text/plain": [
       "      company     location  industry  total_laid_off  percentage_laid_off  \\\n",
       "0    Just Eat       London      Food          1700.0                 0.00   \n",
       "1     Marvell  SF Bay Area  Hardware           320.0                 0.04   \n",
       "2   Workhuman       Dublin        HR           130.0                 0.10   \n",
       "3  FreshBooks      Toronto   Finance            80.0                 0.10   \n",
       "4        Xing      Hamburg        HR            68.0                 0.00   \n",
       "\n",
       "        date     stage         country  funds_raised  year  day  month  \n",
       "0 2023-03-21  Acquired  United Kingdom           0.0  2023   21      3  \n",
       "1 2023-03-21  Post-IPO   United States           0.0  2023   21      3  \n",
       "2 2023-03-21   Unknown         Ireland         131.0  2023   21      3  \n",
       "3 2023-03-21   Unknown          Canada         331.0  2023   21      3  \n",
       "4 2023-03-21  Series A         Germany           0.0  2023   21      3  "
      ]
     },
     "execution_count": 163,
     "metadata": {},
     "output_type": "execute_result"
    }
   ],
   "source": [
    "# splitting the date column to date, month and year to get more insights\n",
    "\n",
    "df_copy['date'] = pd.to_datetime(df_copy['date'])\n",
    "df_copy['year'] = df_copy['date'].dt.year\n",
    "df_copy['day'] = df_copy['date'].dt.day\n",
    "df_copy['month'] = df_copy['date'].dt.month\n",
    "\n",
    "df_copy['year']=df_copy['year'].astype(int)\n",
    "df_copy['month']=df_copy['month'].astype(int)\n",
    "df_copy['day']=df_copy['day'].astype(int)\n",
    "df_copy.head()"
   ]
  },
  {
   "cell_type": "code",
   "execution_count": 164,
   "metadata": {},
   "outputs": [
    {
     "data": {
      "text/plain": [
       "array([2023, 2022, 2021, 2020, 1970])"
      ]
     },
     "execution_count": 164,
     "metadata": {},
     "output_type": "execute_result"
    }
   ],
   "source": [
    "df_copy.year.unique()"
   ]
  },
  {
   "cell_type": "code",
   "execution_count": 165,
   "metadata": {},
   "outputs": [
    {
     "data": {
      "text/plain": [
       "2022    1215\n",
       "2020     634\n",
       "2023     520\n",
       "2021      44\n",
       "1970       1\n",
       "Name: year, dtype: int64"
      ]
     },
     "execution_count": 165,
     "metadata": {},
     "output_type": "execute_result"
    }
   ],
   "source": [
    "df_copy['year'].value_counts()"
   ]
  },
  {
   "cell_type": "code",
   "execution_count": 166,
   "metadata": {},
   "outputs": [
    {
     "data": {
      "image/png": "[encoded data removed]",
      "text/plain": [
       "<Figure size 504x360 with 1 Axes>"
      ]
     },
     "metadata": {
      "needs_background": "light"
     },
     "output_type": "display_data"
    }
   ],
   "source": [
    "graph = sns.catplot(x = 'year',y = 'total_laid_off', data = df_copy)\n",
    "graph.fig.set_figwidth(7)\n",
    "graph.fig.set_figheight(5)"
   ]
  },
  {
   "cell_type": "code",
   "execution_count": 167,
   "metadata": {},
   "outputs": [],
   "source": [
    "layoff_1970 = df_copy[df_copy['year']==1970]\n",
    "layoff_2020 = df_copy[df_copy['year']==2020]\n",
    "layoff_2021 = df_copy[df_copy['year']==2021]\n",
    "layoff_2022 = df_copy[df_copy['year']==2022]\n",
    "layoff_2023 = df_copy[df_copy['year']==2023]"
   ]
  },
  {
   "cell_type": "code",
   "execution_count": 168,
   "metadata": {},
   "outputs": [
    {
     "name": "stdout",
     "output_type": "stream",
     "text": [
      "500.0\n",
      "80998.0\n",
      "15823.0\n",
      "161411.0\n",
      "150518.0\n"
     ]
    }
   ],
   "source": [
    "print(layoff_1970.total_laid_off.sum())\n",
    "print(layoff_2020.total_laid_off.sum())\n",
    "print(layoff_2021.total_laid_off.sum())\n",
    "print(layoff_2022.total_laid_off.sum())\n",
    "print(layoff_2023.total_laid_off.sum())"
   ]
  },
  {
   "cell_type": "code",
   "execution_count": 169,
   "metadata": {},
   "outputs": [
    {
     "data": {
      "image/png": "[encoded data removed]",
      "text/plain": [
       "<Figure size 576x432 with 1 Axes>"
      ]
     },
     "metadata": {},
     "output_type": "display_data"
    }
   ],
   "source": [
    "total_laid_off_2020 = int(layoff_2020['total_laid_off'].sum())\n",
    "total_laid_off_2021 = int(layoff_2021['total_laid_off'].sum())\n",
    "total_laid_off_2022 = int(layoff_2022['total_laid_off'].sum())\n",
    "total_laid_off_2023 = int(layoff_2023['total_laid_off'].sum())\n",
    "total_laid_off_1970 = int(layoff_1970['total_laid_off'].sum())\n",
    "\n",
    "total_layoffs = (total_laid_off_1970,total_laid_off_2020,total_laid_off_2021,total_laid_off_2022,total_laid_off_2023)\n",
    "labels = ['1970 - 500','2020 - 80998','2021 - 15823','2022 - 161411', '2023 - 150518']\n",
    "plt.figure(figsize=(8,6))\n",
    "plt.pie(total_layoffs, labels=labels,shadow=False)\n",
    "plt.legend(labels=labels, bbox_to_anchor=(1,1))\n",
    "plt.title('Total no of Layoffs - Year wise')\n",
    "plt.show()"
   ]
  },
  {
   "cell_type": "markdown",
   "metadata": {},
   "source": [
    "### <><><><><><><><><><><><><><><><>><><><><><><><><><><><><><><><><>><><><><><><><><><>"
   ]
  }
 ],
 "metadata": {
  "kernelspec": {
   "display_name": "Python 3",
   "language": "python",
   "name": "python3"
  },
  "language_info": {
   "codemirror_mode": {
    "name": "ipython",
    "version": 3
   },
   "file_extension": ".py",
   "mimetype": "text/x-python",
   "name": "python",
   "nbconvert_exporter": "python",
   "pygments_lexer": "ipython3",
   "version": "3.8.5"
  }
 },
 "nbformat": 4,
 "nbformat_minor": 4
}
